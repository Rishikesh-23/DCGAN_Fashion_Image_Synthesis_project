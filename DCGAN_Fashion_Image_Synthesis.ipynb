{
 "cells": [
  {
   "cell_type": "code",
   "execution_count": 53,
   "id": "e550562c",
   "metadata": {},
   "outputs": [],
   "source": [
    "\n",
    "import torch\n",
    "import torch.nn as nn\n",
    "import torch.optim as optim\n",
    "from torchvision import datasets, transforms\n",
    "from torch.utils.data import DataLoader\n",
    "import matplotlib.pyplot as plt\n",
    "\n",
    "# Hyperparameters\n",
    "batch_size = 32\n",
    "latent_dim = 100  # Size of the random noise vector\n",
    "epochs = 35\n",
    "lr = 0.0002\n",
    "image_size = 28\n",
    "channels = 1\n"
   ]
  },
  {
   "cell_type": "code",
   "execution_count": 54,
   "id": "d89f065f",
   "metadata": {},
   "outputs": [],
   "source": [
    "\n",
    "# Data loading\n",
    "transform = transforms.Compose([\n",
    "    transforms.ToTensor(),\n",
    "    transforms.Normalize((0.5,), (0.5,))\n",
    "])\n",
    "\n",
    "train_data = datasets.FashionMNIST(root='./data', train=True, download=True, transform=transform)\n",
    "train_loader = DataLoader(train_data, batch_size=batch_size, shuffle=True)\n"
   ]
  },
  {
   "cell_type": "code",
   "execution_count": 55,
   "id": "6a9ceff0",
   "metadata": {},
   "outputs": [],
   "source": [
    "# Generator Network\n",
    "class Generator(nn.Module):\n",
    "    def __init__(self):\n",
    "        super(Generator, self).__init__()\n",
    "        self.model = nn.Sequential(\n",
    "            nn.Linear(latent_dim, 128 * 7 * 7),  # Keep the same intermediate size\n",
    "            nn.BatchNorm1d(128 * 7 * 7),\n",
    "            nn.ReLU(True),\n",
    "            nn.Unflatten(1, (128, 7, 7)),\n",
    "            nn.ConvTranspose2d(128, 64, kernel_size=4, stride=2, padding=1),\n",
    "            nn.BatchNorm2d(64),\n",
    "            nn.ReLU(True),\n",
    "            nn.ConvTranspose2d(64, channels, kernel_size=4, stride=2, padding=1),  # Output 3 channels for RGB\n",
    "            nn.Tanh()\n",
    "        )\n",
    "\n",
    "    def forward(self, x):\n",
    "        return self.model(x)\n",
    "\n",
    "\n",
    "\n"
   ]
  },
  {
   "cell_type": "code",
   "execution_count": 56,
   "id": "a1709470",
   "metadata": {},
   "outputs": [],
   "source": [
    "# Discriminator Network\n",
    "class Discriminator(nn.Module):\n",
    "    def __init__(self):\n",
    "        super(Discriminator, self).__init__()\n",
    "        self.model = nn.Sequential(\n",
    "            nn.Conv2d(channels, 64, kernel_size=4, stride=2, padding=1),  # Input 3 channels\n",
    "            nn.LeakyReLU(0.2, inplace=True),\n",
    "            nn.Conv2d(64, 128, kernel_size=4, stride=2, padding=1),\n",
    "            nn.BatchNorm2d(128),\n",
    "            nn.LeakyReLU(0.2, inplace=True),\n",
    "            nn.Flatten(),\n",
    "            nn.Linear(128 * 7 * 7, 1),\n",
    "            nn.Sigmoid()\n",
    "        )\n",
    "\n",
    "    def forward(self, x):\n",
    "        return self.model(x)\n",
    "\n"
   ]
  },
  {
   "cell_type": "code",
   "execution_count": 57,
   "id": "620c63bf",
   "metadata": {},
   "outputs": [],
   "source": [
    "\n",
    "# Initialize generator and discriminator\n",
    "generator = Generator()\n",
    "discriminator = Discriminator()\n",
    "\n",
    "# Loss and Optimizers\n",
    "criterion = nn.BCELoss()\n",
    "optimizer_g = optim.Adam(generator.parameters(), lr=lr, betas=(0.5, 0.999))\n",
    "optimizer_d = optim.Adam(discriminator.parameters(), lr=lr, betas=(0.5, 0.999))\n"
   ]
  },
  {
   "cell_type": "code",
   "execution_count": 58,
   "id": "ec40f934",
   "metadata": {},
   "outputs": [
    {
     "name": "stdout",
     "output_type": "stream",
     "text": [
      "Epoch [1/35]  D Loss: 0.0728, G Loss: 4.6586\n",
      "Epoch [2/35]  D Loss: 0.5122, G Loss: 1.8924\n",
      "Epoch [3/35]  D Loss: 0.3669, G Loss: 3.6295\n",
      "Epoch [4/35]  D Loss: 0.2750, G Loss: 3.0780\n",
      "Epoch [5/35]  D Loss: 0.5162, G Loss: 2.4116\n",
      "Epoch [6/35]  D Loss: 0.1530, G Loss: 3.2535\n",
      "Epoch [7/35]  D Loss: 0.3577, G Loss: 3.4076\n",
      "Epoch [8/35]  D Loss: 0.4936, G Loss: 2.1181\n",
      "Epoch [9/35]  D Loss: 0.1694, G Loss: 3.5679\n",
      "Epoch [10/35]  D Loss: 0.5826, G Loss: 2.2309\n",
      "Epoch [11/35]  D Loss: 0.3369, G Loss: 3.0878\n",
      "Epoch [12/35]  D Loss: 0.1929, G Loss: 3.3163\n",
      "Epoch [13/35]  D Loss: 0.3785, G Loss: 3.1225\n",
      "Epoch [14/35]  D Loss: 0.3589, G Loss: 2.8882\n",
      "Epoch [15/35]  D Loss: 0.8560, G Loss: 2.3462\n",
      "Epoch [16/35]  D Loss: 0.1970, G Loss: 4.0161\n",
      "Epoch [17/35]  D Loss: 0.5455, G Loss: 2.5395\n",
      "Epoch [18/35]  D Loss: 0.2655, G Loss: 2.8435\n",
      "Epoch [19/35]  D Loss: 0.3542, G Loss: 3.2291\n",
      "Epoch [20/35]  D Loss: 0.4975, G Loss: 3.7115\n",
      "Epoch [21/35]  D Loss: 0.1864, G Loss: 3.3199\n",
      "Epoch [22/35]  D Loss: 0.2094, G Loss: 4.4045\n",
      "Epoch [23/35]  D Loss: 0.2799, G Loss: 2.8124\n",
      "Epoch [24/35]  D Loss: 0.5391, G Loss: 3.0581\n",
      "Epoch [25/35]  D Loss: 0.3203, G Loss: 3.4223\n",
      "Epoch [26/35]  D Loss: 0.3498, G Loss: 3.1141\n",
      "Epoch [27/35]  D Loss: 0.2344, G Loss: 2.8336\n",
      "Epoch [28/35]  D Loss: 0.3594, G Loss: 4.2847\n",
      "Epoch [29/35]  D Loss: 0.6999, G Loss: 2.1767\n",
      "Epoch [30/35]  D Loss: 0.2960, G Loss: 3.1993\n",
      "Epoch [31/35]  D Loss: 0.3219, G Loss: 3.6225\n",
      "Epoch [32/35]  D Loss: 0.2361, G Loss: 3.7127\n",
      "Epoch [33/35]  D Loss: 0.2570, G Loss: 3.0420\n",
      "Epoch [34/35]  D Loss: 0.3902, G Loss: 3.6463\n",
      "Epoch [35/35]  D Loss: 0.4992, G Loss: 4.4578\n"
     ]
    }
   ],
   "source": [
    "\n",
    "# Training\n",
    "for epoch in range(epochs):\n",
    "    for i, (images, _) in enumerate(train_loader):\n",
    "        # Prepare real and fake labels\n",
    "        real_labels = torch.ones(images.size(0), 1)\n",
    "        fake_labels = torch.zeros(images.size(0), 1)\n",
    "        \n",
    "        # Train Discriminator\n",
    "        optimizer_d.zero_grad()\n",
    "        outputs = discriminator(images)\n",
    "        d_loss_real = criterion(outputs, real_labels)\n",
    "        d_loss_real.backward()\n",
    "        \n",
    "        # Generate fake images\n",
    "        z = torch.randn(images.size(0), latent_dim)\n",
    "        fake_images = generator(z)\n",
    "        outputs = discriminator(fake_images.detach())\n",
    "        d_loss_fake = criterion(outputs, fake_labels)\n",
    "        d_loss_fake.backward()\n",
    "        optimizer_d.step()\n",
    "\n",
    "        # Train Generator\n",
    "        optimizer_g.zero_grad()\n",
    "        outputs = discriminator(fake_images)\n",
    "        g_loss = criterion(outputs, real_labels)  # Generator tries to fool discriminator\n",
    "        g_loss.backward()\n",
    "        optimizer_g.step()\n",
    "\n",
    "    print(f'Epoch [{epoch+1}/{epochs}]  D Loss: {d_loss_real + d_loss_fake:.4f}, G Loss: {g_loss:.4f}')\n"
   ]
  },
  {
   "cell_type": "code",
   "execution_count": 59,
   "id": "a4d18acc",
   "metadata": {},
   "outputs": [
    {
     "data": {
      "image/png": "[encoded data removed]",
      "text/plain": [
       "<Figure size 1500x200 with 10 Axes>"
      ]
     },
     "metadata": {},
     "output_type": "display_data"
    }
   ],
   "source": [
    "# Generating images\n",
    "def generate_images(num_images):\n",
    "    z = torch.randn(num_images, latent_dim)\n",
    "    fake_images = generator(z)\n",
    "    fake_images = fake_images.view(-1, channels, image_size, image_size)\n",
    "    fake_images = (fake_images + 1) / 2  # Rescale to [0, 1]\n",
    "    return fake_images\n",
    "\n",
    "# Display generated images\n",
    "fake_images = generate_images(10)\n",
    "fig, ax = plt.subplots(1, 10, figsize=(15, 2))\n",
    "for i in range(10):\n",
    "    ax[i].imshow(fake_images[i].detach().permute(1, 2, 0).cpu().numpy())  # Use RGB format\n",
    "    ax[i].axis('off')\n",
    "plt.show()\n",
    "\n"
   ]
  },
  {
   "cell_type": "code",
   "execution_count": null,
   "id": "693efa81",
   "metadata": {},
   "outputs": [],
   "source": []
  },
  {
   "cell_type": "code",
   "execution_count": null,
   "id": "df2b9e20",
   "metadata": {},
   "outputs": [],
   "source": []
  }
 ],
 "metadata": {
  "kernelspec": {
   "display_name": "base",
   "language": "python",
   "name": "python3"
  },
  "language_info": {
   "codemirror_mode": {
    "name": "ipython",
    "version": 3
   },
   "file_extension": ".py",
   "mimetype": "text/x-python",
   "name": "python",
   "nbconvert_exporter": "python",
   "pygments_lexer": "ipython3",
   "version": "3.11.9"
  }
 },
 "nbformat": 4,
 "nbformat_minor": 5
}
